{
 "cells": [
  {
   "cell_type": "code",
   "execution_count": 1,
   "outputs": [
    {
     "name": "stdout",
     "output_type": "stream",
     "text": [
      "First see of track metadata:\n",
      "Number of rows: 1000000\n",
      "Number of unique songs: 999056\n"
     ]
    },
    {
     "data": {
      "text/plain": "              song_id              title  \\\n0  SOQMMHC12AB0180CB8       Silent Night   \n1  SOVFVAK12A8C1350D9        Tanssi vaan   \n2  SOGTUKN12AB017F4F1  No One Could Ever   \n3  SOBNYVR12A8C13558C      Si Vos Querés   \n4  SOHSBXH12A8C13B0DF   Tangle Of Aspens   \n\n                                release       artist_name  year  \n0                 Monster Ballads X-Mas  Faster Pussy cat  2003  \n1                           Karkuteillä  Karkkiautomaatti  1995  \n2                                Butter    Hudson Mohawke  2006  \n3                               De Culo       Yerba Brava  2003  \n4  Rene Ablaze Presents Winter Sessions        Der Mystic     0  ",
      "text/html": "<div>\n<style scoped>\n    .dataframe tbody tr th:only-of-type {\n        vertical-align: middle;\n    }\n\n    .dataframe tbody tr th {\n        vertical-align: top;\n    }\n\n    .dataframe thead th {\n        text-align: right;\n    }\n</style>\n<table border=\"1\" class=\"dataframe\">\n  <thead>\n    <tr style=\"text-align: right;\">\n      <th></th>\n      <th>song_id</th>\n      <th>title</th>\n      <th>release</th>\n      <th>artist_name</th>\n      <th>year</th>\n    </tr>\n  </thead>\n  <tbody>\n    <tr>\n      <th>0</th>\n      <td>SOQMMHC12AB0180CB8</td>\n      <td>Silent Night</td>\n      <td>Monster Ballads X-Mas</td>\n      <td>Faster Pussy cat</td>\n      <td>2003</td>\n    </tr>\n    <tr>\n      <th>1</th>\n      <td>SOVFVAK12A8C1350D9</td>\n      <td>Tanssi vaan</td>\n      <td>Karkuteillä</td>\n      <td>Karkkiautomaatti</td>\n      <td>1995</td>\n    </tr>\n    <tr>\n      <th>2</th>\n      <td>SOGTUKN12AB017F4F1</td>\n      <td>No One Could Ever</td>\n      <td>Butter</td>\n      <td>Hudson Mohawke</td>\n      <td>2006</td>\n    </tr>\n    <tr>\n      <th>3</th>\n      <td>SOBNYVR12A8C13558C</td>\n      <td>Si Vos Querés</td>\n      <td>De Culo</td>\n      <td>Yerba Brava</td>\n      <td>2003</td>\n    </tr>\n    <tr>\n      <th>4</th>\n      <td>SOHSBXH12A8C13B0DF</td>\n      <td>Tangle Of Aspens</td>\n      <td>Rene Ablaze Presents Winter Sessions</td>\n      <td>Der Mystic</td>\n      <td>0</td>\n    </tr>\n  </tbody>\n</table>\n</div>"
     },
     "metadata": {},
     "output_type": "display_data"
    },
    {
     "name": "stdout",
     "output_type": "stream",
     "text": [
      "Note the problem with repeated track metadata. Let's see of counts play song by users:\n"
     ]
    },
    {
     "data": {
      "text/plain": "(2000000, 3)"
     },
     "metadata": {},
     "output_type": "display_data"
    },
    {
     "data": {
      "text/plain": "                                       user                song  play_count\n0  b80344d063b5ccb3212f76538f3d9e43d87dca9e  SOAKIMP12A8C130995           1\n1  b80344d063b5ccb3212f76538f3d9e43d87dca9e  SOBBMDR12A8C13253B           2\n2  b80344d063b5ccb3212f76538f3d9e43d87dca9e  SOBXHDL12A81C204C0           1\n3  b80344d063b5ccb3212f76538f3d9e43d87dca9e  SOBYHAJ12A6701BF1D           1\n4  b80344d063b5ccb3212f76538f3d9e43d87dca9e  SODACBL12A8C13C273           1",
      "text/html": "<div>\n<style scoped>\n    .dataframe tbody tr th:only-of-type {\n        vertical-align: middle;\n    }\n\n    .dataframe tbody tr th {\n        vertical-align: top;\n    }\n\n    .dataframe thead th {\n        text-align: right;\n    }\n</style>\n<table border=\"1\" class=\"dataframe\">\n  <thead>\n    <tr style=\"text-align: right;\">\n      <th></th>\n      <th>user</th>\n      <th>song</th>\n      <th>play_count</th>\n    </tr>\n  </thead>\n  <tbody>\n    <tr>\n      <th>0</th>\n      <td>b80344d063b5ccb3212f76538f3d9e43d87dca9e</td>\n      <td>SOAKIMP12A8C130995</td>\n      <td>1</td>\n    </tr>\n    <tr>\n      <th>1</th>\n      <td>b80344d063b5ccb3212f76538f3d9e43d87dca9e</td>\n      <td>SOBBMDR12A8C13253B</td>\n      <td>2</td>\n    </tr>\n    <tr>\n      <th>2</th>\n      <td>b80344d063b5ccb3212f76538f3d9e43d87dca9e</td>\n      <td>SOBXHDL12A81C204C0</td>\n      <td>1</td>\n    </tr>\n    <tr>\n      <th>3</th>\n      <td>b80344d063b5ccb3212f76538f3d9e43d87dca9e</td>\n      <td>SOBYHAJ12A6701BF1D</td>\n      <td>1</td>\n    </tr>\n    <tr>\n      <th>4</th>\n      <td>b80344d063b5ccb3212f76538f3d9e43d87dca9e</td>\n      <td>SODACBL12A8C13C273</td>\n      <td>1</td>\n    </tr>\n  </tbody>\n</table>\n</div>"
     },
     "metadata": {},
     "output_type": "display_data"
    }
   ],
   "source": [
    "import pandas as pd\n",
    "import numpy as np\n",
    "import time\n",
    "import matplotlib.pyplot as plt; plt.rcdefaults()\n",
    "import matplotlib.pyplot as plt\n",
    "from sklearn.model_selection import train_test_split\n",
    "from scipy.sparse import coo_matrix\n",
    "import math as mt\n",
    "from scipy.sparse.linalg import * #used for matrix multiplication\n",
    "from scipy.sparse.linalg import svds\n",
    "from scipy.sparse import csc_matrix\n",
    "from scipy.stats import skew, norm, probplot\n",
    "import seaborn as sns\n",
    "sns.set(style=\"ticks\", color_codes=True, font_scale=1.5)\n",
    "color = sns.color_palette()\n",
    "sns.set_style('darkgrid')\n",
    "\n",
    "track_metadata_df = pd.read_csv('data/song_data.csv')\n",
    "count_play_df = pd.read_csv('data/Song_plays/10000.txt', sep='\\t', header=None, names=['user','song','play_count'])\n",
    "\n",
    "print('First see of track metadata:')\n",
    "print('Number of rows:', track_metadata_df.shape[0])\n",
    "print('Number of unique songs:', len(track_metadata_df.song_id.unique()))\n",
    "display(track_metadata_df.head())\n",
    "print('Note the problem with repeated track metadata. Let\\'s see of counts play song by users:')\n",
    "display(count_play_df.shape, count_play_df.head())"
   ],
   "metadata": {
    "collapsed": false,
    "pycharm": {
     "name": "#%%\n"
    }
   }
  },
  {
   "cell_type": "code",
   "execution_count": 12,
   "outputs": [],
   "source": [
    "unique_track_metadata_df = track_metadata_df.groupby('song_id').max().reset_index()"
   ],
   "metadata": {
    "collapsed": false,
    "pycharm": {
     "name": "#%%\n"
    }
   }
  },
  {
   "cell_type": "code",
   "execution_count": 13,
   "outputs": [
    {
     "name": "stdout",
     "output_type": "stream",
     "text": [
      "Number of rows after unique song Id treatment: 999056\n",
      "Number of unique songs: 999056\n"
     ]
    },
    {
     "data": {
      "text/plain": "              song_id                            title  \\\n0  SOAAABI12A8C13615F                     Afro Jazziac   \n1  SOAAABT12AC46860F0  Herre Gud Ditt Dyre Namn Og Ære   \n2  SOAAABX12A8C13FEB2                     N.Y.C. Remix   \n3  SOAAACR12A58A79456                     Irresistible   \n4  SOAAACY12A58A79663                       Untitled 1   \n\n                         release      artist_name  year  \n0          To Birdland And Hurry      Herbie Mann  2000  \n1  Som Den Gyldne Sol Frembryter  Bergen Big Band     0  \n2               Paris Can´t Wait         Guardner     0  \n3                    Wowie Zowie      Superchumbo  2002  \n4              Pine Cone Temples            Thuja     0  ",
      "text/html": "<div>\n<style scoped>\n    .dataframe tbody tr th:only-of-type {\n        vertical-align: middle;\n    }\n\n    .dataframe tbody tr th {\n        vertical-align: top;\n    }\n\n    .dataframe thead th {\n        text-align: right;\n    }\n</style>\n<table border=\"1\" class=\"dataframe\">\n  <thead>\n    <tr style=\"text-align: right;\">\n      <th></th>\n      <th>song_id</th>\n      <th>title</th>\n      <th>release</th>\n      <th>artist_name</th>\n      <th>year</th>\n    </tr>\n  </thead>\n  <tbody>\n    <tr>\n      <th>0</th>\n      <td>SOAAABI12A8C13615F</td>\n      <td>Afro Jazziac</td>\n      <td>To Birdland And Hurry</td>\n      <td>Herbie Mann</td>\n      <td>2000</td>\n    </tr>\n    <tr>\n      <th>1</th>\n      <td>SOAAABT12AC46860F0</td>\n      <td>Herre Gud Ditt Dyre Namn Og Ære</td>\n      <td>Som Den Gyldne Sol Frembryter</td>\n      <td>Bergen Big Band</td>\n      <td>0</td>\n    </tr>\n    <tr>\n      <th>2</th>\n      <td>SOAAABX12A8C13FEB2</td>\n      <td>N.Y.C. Remix</td>\n      <td>Paris Can´t Wait</td>\n      <td>Guardner</td>\n      <td>0</td>\n    </tr>\n    <tr>\n      <th>3</th>\n      <td>SOAAACR12A58A79456</td>\n      <td>Irresistible</td>\n      <td>Wowie Zowie</td>\n      <td>Superchumbo</td>\n      <td>2002</td>\n    </tr>\n    <tr>\n      <th>4</th>\n      <td>SOAAACY12A58A79663</td>\n      <td>Untitled 1</td>\n      <td>Pine Cone Temples</td>\n      <td>Thuja</td>\n      <td>0</td>\n    </tr>\n  </tbody>\n</table>\n</div>"
     },
     "metadata": {},
     "output_type": "display_data"
    }
   ],
   "source": [
    "print('Number of rows after unique song Id treatment:', unique_track_metadata_df.shape[0])\n",
    "print('Number of unique songs:', len(unique_track_metadata_df.song_id.unique()))\n",
    "display(unique_track_metadata_df.head())"
   ],
   "metadata": {
    "collapsed": false,
    "pycharm": {
     "name": "#%%\n"
    }
   }
  },
  {
   "cell_type": "code",
   "execution_count": null,
   "outputs": [],
   "source": [
    "\n",
    "\n",
    "\n",
    "\n",
    "\n"
   ],
   "metadata": {
    "collapsed": false,
    "pycharm": {
     "name": "#%%\n"
    }
   }
  }
 ],
 "metadata": {
  "kernelspec": {
   "display_name": "Python 3",
   "language": "python",
   "name": "python3"
  },
  "language_info": {
   "codemirror_mode": {
    "name": "ipython",
    "version": 2
   },
   "file_extension": ".py",
   "mimetype": "text/x-python",
   "name": "python",
   "nbconvert_exporter": "python",
   "pygments_lexer": "ipython2",
   "version": "2.7.6"
  }
 },
 "nbformat": 4,
 "nbformat_minor": 0
}